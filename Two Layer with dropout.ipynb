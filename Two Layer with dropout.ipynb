{
 "cells": [
  {
   "cell_type": "code",
   "execution_count": 1,
   "metadata": {},
   "outputs": [],
   "source": [
    "import pandas as pd\n",
    "import numpy as np\n",
    "\n",
    "\n",
    "dataset=pd.read_csv(\"cleaned_data.csv\",index_col=0)\n",
    "dataset=dataset.dropna()\n",
    "\n",
    "np.random.seed(10)\n",
    "\n",
    "random_number=np.random.rand(len(dataset.index.values))\n",
    "\n",
    "msk1=random_number<0.7\n",
    "msk2=random_number>0.85\n",
    "msk3=(random_number>=0.7) & (random_number<=0.85)\n",
    "\n",
    "train_set=dataset.loc[msk1,:]\n",
    "test_set=dataset.loc[msk2,:]\n",
    "validation_set=dataset.loc[msk3,:]"
   ]
  },
  {
   "cell_type": "code",
   "execution_count": 2,
   "metadata": {
    "scrolled": true
   },
   "outputs": [
    {
     "name": "stderr",
     "output_type": "stream",
     "text": [
      "/home/ubuntu/miniconda3/lib/python3.6/site-packages/ipykernel_launcher.py:7: FutureWarning: reshape is deprecated and will raise in a subsequent release. Please use .values.reshape(...) instead\n",
      "  import sys\n",
      "/home/ubuntu/miniconda3/lib/python3.6/site-packages/ipykernel_launcher.py:8: FutureWarning: reshape is deprecated and will raise in a subsequent release. Please use .values.reshape(...) instead\n",
      "  \n",
      "/home/ubuntu/miniconda3/lib/python3.6/site-packages/ipykernel_launcher.py:10: FutureWarning: reshape is deprecated and will raise in a subsequent release. Please use .values.reshape(...) instead\n",
      "  # Remove the CWD from sys.path while we load stuff.\n",
      "/home/ubuntu/miniconda3/lib/python3.6/site-packages/ipykernel_launcher.py:11: FutureWarning: reshape is deprecated and will raise in a subsequent release. Please use .values.reshape(...) instead\n",
      "  # This is added back by InteractiveShellApp.init_path()\n",
      "/home/ubuntu/miniconda3/lib/python3.6/site-packages/ipykernel_launcher.py:13: FutureWarning: reshape is deprecated and will raise in a subsequent release. Please use .values.reshape(...) instead\n",
      "  del sys.path[0]\n",
      "/home/ubuntu/miniconda3/lib/python3.6/site-packages/ipykernel_launcher.py:14: FutureWarning: reshape is deprecated and will raise in a subsequent release. Please use .values.reshape(...) instead\n",
      "  \n",
      "/home/ubuntu/miniconda3/lib/python3.6/site-packages/ipykernel_launcher.py:16: FutureWarning: reshape is deprecated and will raise in a subsequent release. Please use .values.reshape(...) instead\n",
      "  app.launch_new_instance()\n",
      "/home/ubuntu/miniconda3/lib/python3.6/site-packages/ipykernel_launcher.py:17: FutureWarning: reshape is deprecated and will raise in a subsequent release. Please use .values.reshape(...) instead\n",
      "/home/ubuntu/miniconda3/lib/python3.6/site-packages/ipykernel_launcher.py:26: FutureWarning: reshape is deprecated and will raise in a subsequent release. Please use .values.reshape(...) instead\n"
     ]
    }
   ],
   "source": [
    "#design the function to resclae the data to adjust the loan amount, interest rate, annual income and earliest credit line\n",
    "from sklearn import preprocessing\n",
    "\n",
    "def scale_train_data(df):\n",
    "    target=['loan_amnt','int_rate','annual_inc','earliest_cre_line']\n",
    "    new_df=df.loc[:,df.columns.difference(target)]\n",
    "    loan_amount_scaler=preprocessing.StandardScaler().fit(df[target[0]].reshape(-1, 1))\n",
    "    new_df['scaled_'+target[0]]=loan_amount_scaler.transform(df[target[0]].reshape(-1, 1))\n",
    "    \n",
    "    int_rate_scaler=preprocessing.StandardScaler().fit(df[target[1]].reshape(-1, 1))\n",
    "    new_df['scaled_'+target[1]]=int_rate_scaler.transform(df[target[1]].reshape(-1, 1))\n",
    "    \n",
    "    annual_inc_scaler=preprocessing.StandardScaler().fit(df[target[2]].reshape(-1, 1))\n",
    "    new_df['scaled_'+target[2]]=annual_inc_scaler.transform(df[target[2]].reshape(-1, 1))\n",
    "    \n",
    "    earliest_cre_line_scaler=preprocessing.StandardScaler().fit(df[target[3]].reshape(-1, 1))\n",
    "    new_df['scaled_'+target[3]]=earliest_cre_line_scaler.transform(df[target[3]].reshape(-1, 1))\n",
    "    \n",
    "    return new_df,[loan_amount_scaler,int_rate_scaler,annual_inc_scaler,earliest_cre_line_scaler]\n",
    "\n",
    "#design the function to apply the scaler onto test and validation set\n",
    "def apply_scaler(df,scaler_list):\n",
    "    target=['loan_amnt','int_rate','annual_inc','earliest_cre_line']\n",
    "    new_df=df.loc[:,df.columns.difference(target)]\n",
    "    for i in range(len(target)):\n",
    "        new_df['scaled_'+target[i]]=scaler_list[i].transform(df[target[i]].reshape(-1, 1))\n",
    "    return new_df\n",
    "\n",
    "scaled_train_set,scaler_list=scale_train_data(train_set)\n",
    "scaled_test_set=apply_scaler(test_set,scaler_list)\n",
    "scaled_validation_set=apply_scaler(validation_set,scaler_list)"
   ]
  },
  {
   "cell_type": "code",
   "execution_count": 3,
   "metadata": {},
   "outputs": [
    {
     "data": {
      "text/html": [
       "<div>\n",
       "<style scoped>\n",
       "    .dataframe tbody tr th:only-of-type {\n",
       "        vertical-align: middle;\n",
       "    }\n",
       "\n",
       "    .dataframe tbody tr th {\n",
       "        vertical-align: top;\n",
       "    }\n",
       "\n",
       "    .dataframe thead th {\n",
       "        text-align: right;\n",
       "    }\n",
       "</style>\n",
       "<table border=\"1\" class=\"dataframe\">\n",
       "  <thead>\n",
       "    <tr style=\"text-align: right;\">\n",
       "      <th></th>\n",
       "      <th>binary_default</th>\n",
       "      <th>home_own_binary</th>\n",
       "      <th>inq_last_6mths</th>\n",
       "      <th>purpose_binary</th>\n",
       "      <th>term_digit</th>\n",
       "      <th>scaled_loan_amnt</th>\n",
       "      <th>scaled_int_rate</th>\n",
       "      <th>scaled_annual_inc</th>\n",
       "      <th>scaled_earliest_cre_line</th>\n",
       "    </tr>\n",
       "  </thead>\n",
       "  <tbody>\n",
       "    <tr>\n",
       "      <th>1</th>\n",
       "      <td>0</td>\n",
       "      <td>1</td>\n",
       "      <td>5.0</td>\n",
       "      <td>1</td>\n",
       "      <td>6</td>\n",
       "      <td>-1.451746</td>\n",
       "      <td>0.461849</td>\n",
       "      <td>-0.684025</td>\n",
       "      <td>0.144462</td>\n",
       "    </tr>\n",
       "    <tr>\n",
       "      <th>2</th>\n",
       "      <td>1</td>\n",
       "      <td>1</td>\n",
       "      <td>2.0</td>\n",
       "      <td>2</td>\n",
       "      <td>3</td>\n",
       "      <td>-1.463594</td>\n",
       "      <td>0.619286</td>\n",
       "      <td>-0.953260</td>\n",
       "      <td>0.492216</td>\n",
       "    </tr>\n",
       "    <tr>\n",
       "      <th>4</th>\n",
       "      <td>1</td>\n",
       "      <td>1</td>\n",
       "      <td>0.0</td>\n",
       "      <td>3</td>\n",
       "      <td>6</td>\n",
       "      <td>-1.392501</td>\n",
       "      <td>-0.126828</td>\n",
       "      <td>0.074470</td>\n",
       "      <td>-0.291979</td>\n",
       "    </tr>\n",
       "    <tr>\n",
       "      <th>5</th>\n",
       "      <td>1</td>\n",
       "      <td>1</td>\n",
       "      <td>3.0</td>\n",
       "      <td>4</td>\n",
       "      <td>3</td>\n",
       "      <td>-1.155522</td>\n",
       "      <td>-1.219760</td>\n",
       "      <td>-0.593005</td>\n",
       "      <td>0.895538</td>\n",
       "    </tr>\n",
       "    <tr>\n",
       "      <th>6</th>\n",
       "      <td>1</td>\n",
       "      <td>1</td>\n",
       "      <td>1.0</td>\n",
       "      <td>5</td>\n",
       "      <td>6</td>\n",
       "      <td>-0.918543</td>\n",
       "      <td>0.619286</td>\n",
       "      <td>-0.426076</td>\n",
       "      <td>0.984592</td>\n",
       "    </tr>\n",
       "  </tbody>\n",
       "</table>\n",
       "</div>"
      ],
      "text/plain": [
       "   binary_default  home_own_binary  inq_last_6mths  purpose_binary  \\\n",
       "1               0                1             5.0               1   \n",
       "2               1                1             2.0               2   \n",
       "4               1                1             0.0               3   \n",
       "5               1                1             3.0               4   \n",
       "6               1                1             1.0               5   \n",
       "\n",
       "   term_digit  scaled_loan_amnt  scaled_int_rate  scaled_annual_inc  \\\n",
       "1           6         -1.451746         0.461849          -0.684025   \n",
       "2           3         -1.463594         0.619286          -0.953260   \n",
       "4           6         -1.392501        -0.126828           0.074470   \n",
       "5           3         -1.155522        -1.219760          -0.593005   \n",
       "6           6         -0.918543         0.619286          -0.426076   \n",
       "\n",
       "   scaled_earliest_cre_line  \n",
       "1                  0.144462  \n",
       "2                  0.492216  \n",
       "4                 -0.291979  \n",
       "5                  0.895538  \n",
       "6                  0.984592  "
      ]
     },
     "execution_count": 3,
     "metadata": {},
     "output_type": "execute_result"
    }
   ],
   "source": [
    "scaled_train_set.head()"
   ]
  },
  {
   "cell_type": "code",
   "execution_count": 4,
   "metadata": {},
   "outputs": [
    {
     "name": "stderr",
     "output_type": "stream",
     "text": [
      "/home/ubuntu/miniconda3/lib/python3.6/importlib/_bootstrap.py:219: RuntimeWarning: compiletime version 3.5 of module 'tensorflow.python.framework.fast_tensor_util' does not match runtime version 3.6\n",
      "  return f(*args, **kwds)\n"
     ]
    }
   ],
   "source": [
    "import tensorflow as tf\n",
    "import numpy as np\n",
    "\n",
    "\n",
    "\n",
    "def construct_neural_layer_with_dropout(input_x, layer_nn,name,drop_out=True,keep_prob=0.5,activation_fnc=None):\n",
    "    with tf.name_scope(name):\n",
    "        n_var=int(input_x.get_shape()[1])\n",
    "        #create random weights\n",
    "        stddev=2/np.sqrt(n_var)\n",
    "        w=tf.Variable(tf.truncated_normal((n_var,layer_nn),stddev=stddev),name=\"weight\",dtype=tf.float32)\n",
    "        b=tf.Variable(tf.zeros([layer_nn]),name=\"biases\",dtype=tf.float32)\n",
    "        output=tf.add(tf.matmul(input_x,w),b)\n",
    "        if activation_fnc==\"sigmoid\":\n",
    "            ans= tf.sigmoid(output)\n",
    "        elif activation_fnc==\"relu\":\n",
    "            ans= tf.nn.relu(output)\n",
    "        elif activation_fnc==\"softmax\":\n",
    "            ans= tf.nn.softmax(output)\n",
    "        else:\n",
    "            ans= output\n",
    "        \n",
    "        if drop_out:\n",
    "            return tf.nn.dropout(ans,keep_prob)\n",
    "        return ans"
   ]
  },
  {
   "cell_type": "code",
   "execution_count": 5,
   "metadata": {},
   "outputs": [
    {
     "name": "stdout",
     "output_type": "stream",
     "text": [
      "Train Accuracy is 0.92413\n",
      "Test Accuracy is 0.922972\n",
      "Validation Accuracy is 0.922899\n"
     ]
    }
   ],
   "source": [
    "layer1_nn=10\n",
    "layer2_nn=5\n",
    "\n",
    "input_x=tf.placeholder(tf.float32,shape=(None,8),name=\"X\")\n",
    "input_y=tf.placeholder(tf.int32,shape=(None),name=\"y\")\n",
    "batch_size=50\n",
    "learning_rate=0.001\n",
    "\n",
    "hidden1=construct_neural_layer_with_dropout(input_x,layer1_nn,\"Hidden_Layer1\",activation_fnc=\"relu\")\n",
    "hidden2=construct_neural_layer_with_dropout(hidden1,layer2_nn,\"Hidden_Layer2\",activation_fnc=\"relu\")\n",
    "output=construct_neural_layer_with_dropout(hidden2,2,\"Output_Layer\",drop_out=False)\n",
    "\n",
    "loss=tf.reduce_mean(tf.nn.sparse_softmax_cross_entropy_with_logits(labels=input_y,logits=output))\n",
    "accuracy=tf.reduce_mean(tf.cast(tf.nn.in_top_k(output,input_y,1),tf.float32))\n",
    "\n",
    "tf.summary.scalar('loss', loss)\n",
    "tf.summary.scalar('accuracy', accuracy)\n",
    "merged = tf.summary.merge_all()\n",
    "train_writer = tf.summary.FileWriter('NN2_dropout')\n",
    "\n",
    "with tf.name_scope(\"train\"):\n",
    "    optimizer = tf.train.AdamOptimizer(learning_rate)\n",
    "    training_op = optimizer.minimize(loss)\n",
    "\n",
    "init = tf.global_variables_initializer()\n",
    "\n",
    "accuracy_tracker=pd.DataFrame(None,index=range(len(scaled_train_set.index.values)//batch_size),columns=['Train','Test'])\n",
    "loss_tracker=pd.DataFrame(None,index=range(len(scaled_train_set.index.values)//batch_size),columns=['Train','Test'])\n",
    "\n",
    "with tf.Session() as sess:\n",
    "    init.run()\n",
    "    \n",
    "    for iters in range(len(scaled_train_set.index.values)//batch_size):\n",
    "        X=scaled_train_set.iloc[(iters*batch_size):((iters+1)*batch_size),1:9]\n",
    "        Y=scaled_train_set.iloc[(iters*batch_size):((iters+1)*batch_size),0]\n",
    "        opt,train_loss,train_accuracy,train_summ=sess.run([training_op,loss,accuracy,merged],feed_dict={input_x:X,input_y:Y})\n",
    "        train_writer.add_summary(train_summ,iters*batch_size)\n",
    "        \n",
    "        test_loss,test_accuracy=sess.run([loss,accuracy],feed_dict={input_x:scaled_test_set.iloc[:,1:9],input_y:scaled_test_set.iloc[:,0]})\n",
    "        accuracy_tracker.loc[iters,'Train']=train_accuracy\n",
    "        accuracy_tracker.loc[iters,'Test']=test_accuracy\n",
    "        loss_tracker.loc[iters,'Test']=test_loss\n",
    "        loss_tracker.loc[iters,'Train']=train_loss\n",
    "        \n",
    "    acc_train=accuracy.eval(feed_dict={input_x:scaled_train_set.iloc[:,1:9],input_y:scaled_train_set.iloc[:,0]})\n",
    "    acc_test=accuracy.eval(feed_dict={input_x:scaled_test_set.iloc[:,1:9],input_y:scaled_test_set.iloc[:,0]})\n",
    "    acc_validate=accuracy.eval(feed_dict={input_x:scaled_validation_set.iloc[:,1:9],input_y:scaled_validation_set.iloc[:,0]})\n",
    "    \n",
    "    \n",
    "    sess.close()\n",
    "    \n",
    "    print(\"Train Accuracy is \"+str(acc_train))\n",
    "    print(\"Test Accuracy is \"+str(acc_test))\n",
    "    print(\"Validation Accuracy is \"+str(acc_validate))"
   ]
  },
  {
   "cell_type": "code",
   "execution_count": 6,
   "metadata": {},
   "outputs": [
    {
     "data": {
      "image/png": "[encoded data removed]",
      "text/plain": [
       "<matplotlib.figure.Figure at 0x7f97dbe99198>"
      ]
     },
     "metadata": {},
     "output_type": "display_data"
    },
    {
     "data": {
      "image/png": "[encoded data removed]",
      "text/plain": [
       "<matplotlib.figure.Figure at 0x7f97b8910240>"
      ]
     },
     "metadata": {},
     "output_type": "display_data"
    }
   ],
   "source": [
    "%matplotlib inline\n",
    "accuracy_tracker.plot();\n",
    "loss_tracker.plot();"
   ]
  },
  {
   "cell_type": "code",
   "execution_count": null,
   "metadata": {},
   "outputs": [],
   "source": []
  }
 ],
 "metadata": {
  "kernelspec": {
   "display_name": "Python 3",
   "language": "python",
   "name": "python3"
  },
  "language_info": {
   "codemirror_mode": {
    "name": "ipython",
    "version": 3
   },
   "file_extension": ".py",
   "mimetype": "text/x-python",
   "name": "python",
   "nbconvert_exporter": "python",
   "pygments_lexer": "ipython3",
   "version": "3.6.3"
  }
 },
 "nbformat": 4,
 "nbformat_minor": 2
}
